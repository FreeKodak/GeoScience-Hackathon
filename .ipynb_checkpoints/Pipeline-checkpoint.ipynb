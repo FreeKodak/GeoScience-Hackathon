{
 "cells": [
  {
   "cell_type": "markdown",
   "metadata": {},
   "source": [
    "Importing data from a csv file"
   ]
  },
  {
   "cell_type": "code",
   "execution_count": 2,
   "metadata": {
    "collapsed": true
   },
   "outputs": [],
   "source": [
    "import pandas as pd\n",
    "import numpy as np\n",
    "\n",
    "df = pd.read_csv('Hackathon_data.csv')\n"
   ]
  },
  {
   "cell_type": "markdown",
   "metadata": {},
   "source": [
    "Cleaning the data"
   ]
  },
  {
   "cell_type": "code",
   "execution_count": 3,
   "metadata": {
    "collapsed": false
   },
   "outputs": [
    {
     "data": {
      "text/html": [
       "<div>\n",
       "<table border=\"1\" class=\"dataframe\">\n",
       "  <thead>\n",
       "    <tr style=\"text-align: right;\">\n",
       "      <th></th>\n",
       "      <th>Date</th>\n",
       "      <th>Ground Elevation(masl)</th>\n",
       "      <th>Datum Elevation(masl)</th>\n",
       "      <th>Surveyed Stickup(m)</th>\n",
       "      <th>Total Depth of Piezometer(mbgs)</th>\n",
       "      <th>Bottom of Piezometer Elevation(masl)</th>\n",
       "      <th>Depth Interval of Screen(mbgs)</th>\n",
       "      <th>Elevation Interval of Screen(masl)</th>\n",
       "      <th>Depth Interval of Sand(mbgs)</th>\n",
       "      <th>Elevation Interval of Sand(masl)</th>\n",
       "      <th>...</th>\n",
       "      <th>Corrected Depth to Groundwater(mbtoc)</th>\n",
       "      <th>Corrected Depth to Groundwater(mbgs)</th>\n",
       "      <th>Observed Groundwater Surface Elevation(masl)</th>\n",
       "      <th>Corrected Groundwater Surface Elevation(masl)</th>\n",
       "      <th>Depth to Bottom of Well(mbtoc)</th>\n",
       "      <th>Measured Stick up(m)</th>\n",
       "      <th>Easting(m)</th>\n",
       "      <th>Northing(m)</th>\n",
       "      <th>Screen Top(masl)</th>\n",
       "      <th>Screen Bot(masl)</th>\n",
       "    </tr>\n",
       "    <tr>\n",
       "      <th>Well name</th>\n",
       "      <th></th>\n",
       "      <th></th>\n",
       "      <th></th>\n",
       "      <th></th>\n",
       "      <th></th>\n",
       "      <th></th>\n",
       "      <th></th>\n",
       "      <th></th>\n",
       "      <th></th>\n",
       "      <th></th>\n",
       "      <th></th>\n",
       "      <th></th>\n",
       "      <th></th>\n",
       "      <th></th>\n",
       "      <th></th>\n",
       "      <th></th>\n",
       "      <th></th>\n",
       "      <th></th>\n",
       "      <th></th>\n",
       "      <th></th>\n",
       "      <th></th>\n",
       "    </tr>\n",
       "  </thead>\n",
       "  <tbody>\n",
       "    <tr>\n",
       "      <th>43629</th>\n",
       "      <td>Jun-16</td>\n",
       "      <td>953.5</td>\n",
       "      <td>954.39</td>\n",
       "      <td>0.88</td>\n",
       "      <td>7.8</td>\n",
       "      <td>945.7</td>\n",
       "      <td>4.80 - 7.80</td>\n",
       "      <td>948.70 - 945.70</td>\n",
       "      <td>NaN</td>\n",
       "      <td>NaN</td>\n",
       "      <td>...</td>\n",
       "      <td>8.2</td>\n",
       "      <td>7.32</td>\n",
       "      <td>946.19</td>\n",
       "      <td>946.19</td>\n",
       "      <td>8.69</td>\n",
       "      <td>N/M</td>\n",
       "      <td>645463.505</td>\n",
       "      <td>5867925.859</td>\n",
       "      <td>948.70</td>\n",
       "      <td>945.70</td>\n",
       "    </tr>\n",
       "    <tr>\n",
       "      <th>43629</th>\n",
       "      <td>Oct-16</td>\n",
       "      <td>953.5</td>\n",
       "      <td>954.39</td>\n",
       "      <td>0.88</td>\n",
       "      <td>7.8</td>\n",
       "      <td>945.7</td>\n",
       "      <td>4.80 - 7.80</td>\n",
       "      <td>948.70 - 945.70</td>\n",
       "      <td>NaN</td>\n",
       "      <td>NaN</td>\n",
       "      <td>...</td>\n",
       "      <td>6.39</td>\n",
       "      <td>5.51</td>\n",
       "      <td>948</td>\n",
       "      <td>948</td>\n",
       "      <td>N/M</td>\n",
       "      <td>N/M</td>\n",
       "      <td>645463.505</td>\n",
       "      <td>5867925.859</td>\n",
       "      <td>948.70</td>\n",
       "      <td>945.70</td>\n",
       "    </tr>\n",
       "    <tr>\n",
       "      <th>43629</th>\n",
       "      <td>May-17</td>\n",
       "      <td>953.5</td>\n",
       "      <td>954.39</td>\n",
       "      <td>0.88</td>\n",
       "      <td>7.8</td>\n",
       "      <td>945.7</td>\n",
       "      <td>4.80 - 7.80</td>\n",
       "      <td>948.70 - 945.70</td>\n",
       "      <td>NaN</td>\n",
       "      <td>NaN</td>\n",
       "      <td>...</td>\n",
       "      <td>6.42</td>\n",
       "      <td>5.54</td>\n",
       "      <td>947.97</td>\n",
       "      <td>947.97</td>\n",
       "      <td>N/M</td>\n",
       "      <td>N/M</td>\n",
       "      <td>645463.505</td>\n",
       "      <td>5867925.859</td>\n",
       "      <td>948.70</td>\n",
       "      <td>945.70</td>\n",
       "    </tr>\n",
       "    <tr>\n",
       "      <th>43629</th>\n",
       "      <td>Oct-17</td>\n",
       "      <td>953.5</td>\n",
       "      <td>954.39</td>\n",
       "      <td>0.88</td>\n",
       "      <td>7.8</td>\n",
       "      <td>945.7</td>\n",
       "      <td>4.80 - 7.80</td>\n",
       "      <td>948.70 - 945.70</td>\n",
       "      <td>NaN</td>\n",
       "      <td>NaN</td>\n",
       "      <td>...</td>\n",
       "      <td>6.94</td>\n",
       "      <td>6.06</td>\n",
       "      <td>947.45</td>\n",
       "      <td>947.45</td>\n",
       "      <td>8.7</td>\n",
       "      <td>N/M</td>\n",
       "      <td>645463.505</td>\n",
       "      <td>5867925.859</td>\n",
       "      <td>948.70</td>\n",
       "      <td>945.70</td>\n",
       "    </tr>\n",
       "    <tr>\n",
       "      <th>43629</th>\n",
       "      <td>May-18</td>\n",
       "      <td>953.5</td>\n",
       "      <td>954.39</td>\n",
       "      <td>0.88</td>\n",
       "      <td>7.8</td>\n",
       "      <td>945.7</td>\n",
       "      <td>4.80 - 7.80</td>\n",
       "      <td>948.70 - 945.70</td>\n",
       "      <td>NaN</td>\n",
       "      <td>NaN</td>\n",
       "      <td>...</td>\n",
       "      <td>7.62</td>\n",
       "      <td>6.74</td>\n",
       "      <td>946.77</td>\n",
       "      <td>946.77</td>\n",
       "      <td>8.7</td>\n",
       "      <td>N/M</td>\n",
       "      <td>645463.505</td>\n",
       "      <td>5867925.859</td>\n",
       "      <td>948.70</td>\n",
       "      <td>945.70</td>\n",
       "    </tr>\n",
       "  </tbody>\n",
       "</table>\n",
       "<p>5 rows × 26 columns</p>\n",
       "</div>"
      ],
      "text/plain": [
       "             Date  Ground Elevation(masl)  Datum Elevation(masl)  \\\n",
       "Well name                                                          \n",
       "43629      Jun-16                   953.5                 954.39   \n",
       "43629      Oct-16                   953.5                 954.39   \n",
       "43629      May-17                   953.5                 954.39   \n",
       "43629      Oct-17                   953.5                 954.39   \n",
       "43629      May-18                   953.5                 954.39   \n",
       "\n",
       "           Surveyed Stickup(m)  Total Depth of Piezometer(mbgs)  \\\n",
       "Well name                                                         \n",
       "43629                     0.88                              7.8   \n",
       "43629                     0.88                              7.8   \n",
       "43629                     0.88                              7.8   \n",
       "43629                     0.88                              7.8   \n",
       "43629                     0.88                              7.8   \n",
       "\n",
       "           Bottom of Piezometer Elevation(masl)  \\\n",
       "Well name                                         \n",
       "43629                                     945.7   \n",
       "43629                                     945.7   \n",
       "43629                                     945.7   \n",
       "43629                                     945.7   \n",
       "43629                                     945.7   \n",
       "\n",
       "          Depth Interval of Screen(mbgs) Elevation Interval of Screen(masl)  \\\n",
       "Well name                                                                     \n",
       "43629                        4.80 - 7.80                    948.70 - 945.70   \n",
       "43629                        4.80 - 7.80                    948.70 - 945.70   \n",
       "43629                        4.80 - 7.80                    948.70 - 945.70   \n",
       "43629                        4.80 - 7.80                    948.70 - 945.70   \n",
       "43629                        4.80 - 7.80                    948.70 - 945.70   \n",
       "\n",
       "          Depth Interval of Sand(mbgs) Elevation Interval of Sand(masl)  \\\n",
       "Well name                                                                 \n",
       "43629                              NaN                              NaN   \n",
       "43629                              NaN                              NaN   \n",
       "43629                              NaN                              NaN   \n",
       "43629                              NaN                              NaN   \n",
       "43629                              NaN                              NaN   \n",
       "\n",
       "                ...        Corrected Depth to Groundwater(mbtoc)  \\\n",
       "Well name       ...                                                \n",
       "43629           ...                                          8.2   \n",
       "43629           ...                                         6.39   \n",
       "43629           ...                                         6.42   \n",
       "43629           ...                                         6.94   \n",
       "43629           ...                                         7.62   \n",
       "\n",
       "          Corrected Depth to Groundwater(mbgs)  \\\n",
       "Well name                                        \n",
       "43629                                     7.32   \n",
       "43629                                     5.51   \n",
       "43629                                     5.54   \n",
       "43629                                     6.06   \n",
       "43629                                     6.74   \n",
       "\n",
       "          Observed Groundwater Surface Elevation(masl)  \\\n",
       "Well name                                                \n",
       "43629                                           946.19   \n",
       "43629                                              948   \n",
       "43629                                           947.97   \n",
       "43629                                           947.45   \n",
       "43629                                           946.77   \n",
       "\n",
       "           Corrected Groundwater Surface Elevation(masl)  \\\n",
       "Well name                                                  \n",
       "43629                                             946.19   \n",
       "43629                                                948   \n",
       "43629                                             947.97   \n",
       "43629                                             947.45   \n",
       "43629                                             946.77   \n",
       "\n",
       "           Depth to Bottom of Well(mbtoc)  Measured Stick up(m)  Easting(m)  \\\n",
       "Well name                                                                     \n",
       "43629                                8.69                   N/M  645463.505   \n",
       "43629                                 N/M                   N/M  645463.505   \n",
       "43629                                 N/M                   N/M  645463.505   \n",
       "43629                                 8.7                   N/M  645463.505   \n",
       "43629                                 8.7                   N/M  645463.505   \n",
       "\n",
       "           Northing(m) Screen Top(masl) Screen Bot(masl)  \n",
       "Well name                                                 \n",
       "43629      5867925.859           948.70           945.70  \n",
       "43629      5867925.859           948.70           945.70  \n",
       "43629      5867925.859           948.70           945.70  \n",
       "43629      5867925.859           948.70           945.70  \n",
       "43629      5867925.859           948.70           945.70  \n",
       "\n",
       "[5 rows x 26 columns]"
      ]
     },
     "execution_count": 3,
     "metadata": {},
     "output_type": "execute_result"
    }
   ],
   "source": [
    "\n",
    "new = df['Elevation Interval of Screen(masl)'].str.split(\" - \", n=1, expand = True) #Split the screen interval into a top and bottom, in a new DataFrame\n",
    "\n",
    "df['Screen Top(masl)'] = new[0] #Create new columns in the original data \n",
    "df['Screen Bot(masl)'] = new[1] \n",
    "\n",
    "\n",
    "df['Date'] = df['Date'].str[3:] #Change date from dd-mm-yy to mm-yy\n",
    "\n",
    "df = df.set_index(['Well name'])\n",
    "\n",
    "df = df[df['Corrected Groundwater Surface Elevation(masl)'].str[0] != \"<\"] #Delete all gw elevation data starting with \"<\"\n",
    "      \n",
    "df.head()\n"
   ]
  },
  {
   "cell_type": "markdown",
   "metadata": {},
   "source": [
    "Narrowing down the data to a single date and relevant columns only"
   ]
  },
  {
   "cell_type": "code",
   "execution_count": 23,
   "metadata": {
    "collapsed": false,
    "scrolled": true
   },
   "outputs": [
    {
     "data": {
      "text/html": [
       "<div>\n",
       "<table border=\"1\" class=\"dataframe\">\n",
       "  <thead>\n",
       "    <tr style=\"text-align: right;\">\n",
       "      <th></th>\n",
       "      <th>Date</th>\n",
       "      <th>Corrected Groundwater Surface Elevation(masl)</th>\n",
       "      <th>Easting(m)</th>\n",
       "      <th>Northing(m)</th>\n",
       "      <th>Screen Top(masl)</th>\n",
       "      <th>Screen Bot(masl)</th>\n",
       "      <th>Screen Mid(masl)</th>\n",
       "    </tr>\n",
       "    <tr>\n",
       "      <th>Well name</th>\n",
       "      <th></th>\n",
       "      <th></th>\n",
       "      <th></th>\n",
       "      <th></th>\n",
       "      <th></th>\n",
       "      <th></th>\n",
       "      <th></th>\n",
       "    </tr>\n",
       "  </thead>\n",
       "  <tbody>\n",
       "    <tr>\n",
       "      <th>43629</th>\n",
       "      <td>Jun-16</td>\n",
       "      <td>946.19</td>\n",
       "      <td>645463.505</td>\n",
       "      <td>5867925.859</td>\n",
       "      <td>948.70</td>\n",
       "      <td>945.70</td>\n",
       "      <td>947.200</td>\n",
       "    </tr>\n",
       "    <tr>\n",
       "      <th>TH7</th>\n",
       "      <td>Jun-16</td>\n",
       "      <td>946.85</td>\n",
       "      <td>645461.893</td>\n",
       "      <td>5867883.754</td>\n",
       "      <td>946.21</td>\n",
       "      <td>945.36</td>\n",
       "      <td>945.785</td>\n",
       "    </tr>\n",
       "    <tr>\n",
       "      <th>35217</th>\n",
       "      <td>Jun-16</td>\n",
       "      <td>948.82</td>\n",
       "      <td>645617.050</td>\n",
       "      <td>5867782.746</td>\n",
       "      <td>948.80</td>\n",
       "      <td>945.80</td>\n",
       "      <td>947.300</td>\n",
       "    </tr>\n",
       "    <tr>\n",
       "      <th>35401</th>\n",
       "      <td>Jun-16</td>\n",
       "      <td>947.27</td>\n",
       "      <td>645466.248</td>\n",
       "      <td>5867809.039</td>\n",
       "      <td>947.82</td>\n",
       "      <td>944.82</td>\n",
       "      <td>946.320</td>\n",
       "    </tr>\n",
       "    <tr>\n",
       "      <th>97-21</th>\n",
       "      <td>Jun-16</td>\n",
       "      <td>947.19</td>\n",
       "      <td>645608.630</td>\n",
       "      <td>5867740.071</td>\n",
       "      <td>947.14</td>\n",
       "      <td>943.14</td>\n",
       "      <td>945.140</td>\n",
       "    </tr>\n",
       "  </tbody>\n",
       "</table>\n",
       "</div>"
      ],
      "text/plain": [
       "             Date Corrected Groundwater Surface Elevation(masl)  Easting(m)  \\\n",
       "Well name                                                                     \n",
       "43629      Jun-16                                        946.19  645463.505   \n",
       "TH7        Jun-16                                        946.85  645461.893   \n",
       "35217      Jun-16                                        948.82  645617.050   \n",
       "35401      Jun-16                                        947.27  645466.248   \n",
       "97-21      Jun-16                                        947.19  645608.630   \n",
       "\n",
       "           Northing(m)  Screen Top(masl)  Screen Bot(masl)  Screen Mid(masl)  \n",
       "Well name                                                                     \n",
       "43629      5867925.859            948.70            945.70           947.200  \n",
       "TH7        5867883.754            946.21            945.36           945.785  \n",
       "35217      5867782.746            948.80            945.80           947.300  \n",
       "35401      5867809.039            947.82            944.82           946.320  \n",
       "97-21      5867740.071            947.14            943.14           945.140  "
      ]
     },
     "execution_count": 23,
     "metadata": {},
     "output_type": "execute_result"
    }
   ],
   "source": [
    "\n",
    "df = df[df['Date']=='Jun-16'] #For a select constant date, gather all well information\n",
    "\n",
    "#Clean dataframe to selected columns\n",
    "df = df[['Date', 'Corrected Groundwater Surface Elevation(masl)', 'Easting(m)','Northing(m)','Screen Top(masl)','Screen Bot(masl)']]\n",
    "\n",
    "#Change type of Screen Top and Base to numeric\n",
    "df['Screen Top(masl)'] = pd.to_numeric(df['Screen Top(masl)'])\n",
    "df['Screen Bot(masl)'] = pd.to_numeric(df['Screen Bot(masl)'])\n",
    "\n",
    "#Add screen midpoint\n",
    "df['Screen Mid(masl)'] = (df['Screen Top(masl)'] + df['Screen Bot(masl)'])/2\n",
    "\n",
    "df.head()\n"
   ]
  },
  {
   "cell_type": "code",
   "execution_count": 27,
   "metadata": {
    "collapsed": false
   },
   "outputs": [
    {
     "data": {
      "text/plain": [
       "'946.19'"
      ]
     },
     "execution_count": 27,
     "metadata": {},
     "output_type": "execute_result"
    }
   ],
   "source": [
    "#df.iloc[0,1]"
   ]
  },
  {
   "cell_type": "markdown",
   "metadata": {},
   "source": [
    "Not Necessary: Write a new csv with clean data"
   ]
  },
  {
   "cell_type": "code",
   "execution_count": 129,
   "metadata": {
    "collapsed": true
   },
   "outputs": [],
   "source": [
    "#df.to_csv('clean_data_jun16.csv')"
   ]
  },
  {
   "cell_type": "markdown",
   "metadata": {
    "collapsed": true
   },
   "source": [
    "# Clustering\n",
    "\n",
    "On to clustering.."
   ]
  },
  {
   "cell_type": "code",
   "execution_count": 24,
   "metadata": {
    "collapsed": true
   },
   "outputs": [],
   "source": [
    "import numpy as np\n",
    "\n",
    "from sklearn.cluster import DBSCAN\n",
    "from sklearn import metrics\n",
    "from sklearn.datasets.samples_generator import make_blobs\n",
    "from sklearn.preprocessing import StandardScaler"
   ]
  },
  {
   "cell_type": "markdown",
   "metadata": {},
   "source": []
  },
  {
   "cell_type": "code",
   "execution_count": 29,
   "metadata": {
    "collapsed": false
   },
   "outputs": [
    {
     "name": "stdout",
     "output_type": "stream",
     "text": [
      "           Easting(m)  Northing(m)  Screen Top(masl)  Screen Bot(masl)\n",
      "Well name                                                             \n",
      "43629      645463.505  5867925.859            948.70            945.70\n",
      "TH7        645461.893  5867883.754            946.21            945.36\n",
      "35217      645617.050  5867782.746            948.80            945.80\n",
      "35401      645466.248  5867809.039            947.82            944.82\n",
      "97-21      645608.630  5867740.071            947.14            943.14\n"
     ]
    }
   ],
   "source": [
    "# Select data to use for clustering\n",
    "X = df.iloc[:,2:-1]\n",
    "print(X.head())\n",
    "\n",
    "### we need to scale the data\n",
    "X = StandardScaler().fit_transform(X)"
   ]
  },
  {
   "cell_type": "markdown",
   "metadata": {},
   "source": [
    "K-means clustering"
   ]
  },
  {
   "cell_type": "code",
   "execution_count": 30,
   "metadata": {
    "collapsed": false
   },
   "outputs": [
    {
     "name": "stdout",
     "output_type": "stream",
     "text": [
      "Label: [0 0 0 0 0 0 0 0 0 0 0 1 0 0 0 0 0 0 0 0 0 0 0 0 0 0 0 0 0 0 0 0 0 0 0 0 0\n",
      " 0 0 0 0 0 0 0 1 0 1 0 0 0 0 2 0 1 1 1 0 1 1 0 0 0 0 0 0 0 0 0 2 0 0 0 0 0\n",
      " 0 2 1 1 1 1 1 1 1 1 1 1 1 1 1 2 2 2 2 2 2 2 2 2 2 2 2 2 2 2 2 2 2 2 1 1 1\n",
      " 1 2]\n",
      "Cluster centers [[ 0.24667021  0.24928488  0.64597518  0.66135263]\n",
      " [-0.72300224 -1.26145594 -0.32098464 -0.39523214]\n",
      " [ 0.08876054  0.66664702 -1.47668569 -1.43943987]]\n"
     ]
    }
   ],
   "source": [
    "### K-means clustering\n",
    "\n",
    "from sklearn.cluster import KMeans\n",
    "kmeans = KMeans(n_clusters=3, random_state=0).fit(X)\n",
    "print(\"Label:\", kmeans.labels_)\n",
    "\n",
    "df['Group'] = kmeans.labels_\n",
    "print(\"Cluster centers\", kmeans.cluster_centers_)"
   ]
  },
  {
   "cell_type": "code",
   "execution_count": 31,
   "metadata": {
    "collapsed": false
   },
   "outputs": [
    {
     "data": {
      "text/html": [
       "<div>\n",
       "<table border=\"1\" class=\"dataframe\">\n",
       "  <thead>\n",
       "    <tr style=\"text-align: right;\">\n",
       "      <th></th>\n",
       "      <th>Date</th>\n",
       "      <th>Corrected Groundwater Surface Elevation(masl)</th>\n",
       "      <th>Easting(m)</th>\n",
       "      <th>Northing(m)</th>\n",
       "      <th>Screen Top(masl)</th>\n",
       "      <th>Screen Bot(masl)</th>\n",
       "      <th>Screen Mid(masl)</th>\n",
       "      <th>Group</th>\n",
       "    </tr>\n",
       "    <tr>\n",
       "      <th>Well name</th>\n",
       "      <th></th>\n",
       "      <th></th>\n",
       "      <th></th>\n",
       "      <th></th>\n",
       "      <th></th>\n",
       "      <th></th>\n",
       "      <th></th>\n",
       "      <th></th>\n",
       "    </tr>\n",
       "  </thead>\n",
       "  <tbody>\n",
       "    <tr>\n",
       "      <th>43629</th>\n",
       "      <td>Jun-16</td>\n",
       "      <td>946.19</td>\n",
       "      <td>645463.505</td>\n",
       "      <td>5867925.859</td>\n",
       "      <td>948.70</td>\n",
       "      <td>945.70</td>\n",
       "      <td>947.200</td>\n",
       "      <td>0</td>\n",
       "    </tr>\n",
       "    <tr>\n",
       "      <th>TH7</th>\n",
       "      <td>Jun-16</td>\n",
       "      <td>946.85</td>\n",
       "      <td>645461.893</td>\n",
       "      <td>5867883.754</td>\n",
       "      <td>946.21</td>\n",
       "      <td>945.36</td>\n",
       "      <td>945.785</td>\n",
       "      <td>0</td>\n",
       "    </tr>\n",
       "    <tr>\n",
       "      <th>35217</th>\n",
       "      <td>Jun-16</td>\n",
       "      <td>948.82</td>\n",
       "      <td>645617.050</td>\n",
       "      <td>5867782.746</td>\n",
       "      <td>948.80</td>\n",
       "      <td>945.80</td>\n",
       "      <td>947.300</td>\n",
       "      <td>0</td>\n",
       "    </tr>\n",
       "    <tr>\n",
       "      <th>35401</th>\n",
       "      <td>Jun-16</td>\n",
       "      <td>947.27</td>\n",
       "      <td>645466.248</td>\n",
       "      <td>5867809.039</td>\n",
       "      <td>947.82</td>\n",
       "      <td>944.82</td>\n",
       "      <td>946.320</td>\n",
       "      <td>0</td>\n",
       "    </tr>\n",
       "    <tr>\n",
       "      <th>97-21</th>\n",
       "      <td>Jun-16</td>\n",
       "      <td>947.19</td>\n",
       "      <td>645608.630</td>\n",
       "      <td>5867740.071</td>\n",
       "      <td>947.14</td>\n",
       "      <td>943.14</td>\n",
       "      <td>945.140</td>\n",
       "      <td>0</td>\n",
       "    </tr>\n",
       "  </tbody>\n",
       "</table>\n",
       "</div>"
      ],
      "text/plain": [
       "             Date Corrected Groundwater Surface Elevation(masl)  Easting(m)  \\\n",
       "Well name                                                                     \n",
       "43629      Jun-16                                        946.19  645463.505   \n",
       "TH7        Jun-16                                        946.85  645461.893   \n",
       "35217      Jun-16                                        948.82  645617.050   \n",
       "35401      Jun-16                                        947.27  645466.248   \n",
       "97-21      Jun-16                                        947.19  645608.630   \n",
       "\n",
       "           Northing(m)  Screen Top(masl)  Screen Bot(masl)  Screen Mid(masl)  \\\n",
       "Well name                                                                      \n",
       "43629      5867925.859            948.70            945.70           947.200   \n",
       "TH7        5867883.754            946.21            945.36           945.785   \n",
       "35217      5867782.746            948.80            945.80           947.300   \n",
       "35401      5867809.039            947.82            944.82           946.320   \n",
       "97-21      5867740.071            947.14            943.14           945.140   \n",
       "\n",
       "           Group  \n",
       "Well name         \n",
       "43629          0  \n",
       "TH7            0  \n",
       "35217          0  \n",
       "35401          0  \n",
       "97-21          0  "
      ]
     },
     "execution_count": 31,
     "metadata": {},
     "output_type": "execute_result"
    }
   ],
   "source": [
    "df.head()"
   ]
  },
  {
   "cell_type": "markdown",
   "metadata": {},
   "source": [
    "# Visualization"
   ]
  },
  {
   "cell_type": "code",
   "execution_count": null,
   "metadata": {
    "collapsed": true
   },
   "outputs": [],
   "source": []
  },
  {
   "cell_type": "code",
   "execution_count": null,
   "metadata": {
    "collapsed": true
   },
   "outputs": [],
   "source": []
  },
  {
   "cell_type": "code",
   "execution_count": null,
   "metadata": {
    "collapsed": true
   },
   "outputs": [],
   "source": []
  },
  {
   "cell_type": "code",
   "execution_count": null,
   "metadata": {
    "collapsed": true
   },
   "outputs": [],
   "source": []
  }
 ],
 "metadata": {
  "anaconda-cloud": {},
  "kernelspec": {
   "display_name": "Python [default]",
   "language": "python",
   "name": "python3"
  },
  "language_info": {
   "codemirror_mode": {
    "name": "ipython",
    "version": 3
   },
   "file_extension": ".py",
   "mimetype": "text/x-python",
   "name": "python",
   "nbconvert_exporter": "python",
   "pygments_lexer": "ipython3",
   "version": "3.5.5"
  }
 },
 "nbformat": 4,
 "nbformat_minor": 2
}
